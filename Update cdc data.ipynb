{
 "cells": [
  {
   "cell_type": "code",
   "execution_count": 1,
   "metadata": {},
   "outputs": [],
   "source": [
    "import pandas as pd\n",
    "import json"
   ]
  },
  {
   "cell_type": "code",
   "execution_count": 90,
   "metadata": {},
   "outputs": [],
   "source": [
    "age_sex = pd.read_csv(\"https://data.cdc.gov.tw/download?resourceid=3c1e263d-16ec-4d70-b56c-21c9e2171fc7&dataurl=https://od.cdc.gov.tw/eic/Day_Confirmation_Age_County_Gender_19CoV.csv\")\n",
    "test = pd.read_csv(\"https://data.cdc.gov.tw/download?resourceid=7ee40c7d-a14c-47b3-bf27-a5de4c278782&dataurl=https://od.cdc.gov.tw/eic/covid19/covid19_tw_specimen.csv\")\n",
    "cases = pd.read_csv(\"https://data.cdc.gov.tw/download?resourceid=52eb9a7d-813d-48b1-b462-384a7c84a746&dataurl=https://od.cdc.gov.tw/eic/covid19/covid19_tw_stats.csv\")\n",
    "\n",
    "\n",
    "def fill(date):\n",
    "    d = date.split(\"/\")\n",
    "    d[1] = d[1].zfill(2)\n",
    "    d[2] = d[2].zfill(2)\n",
    "    return \"/\".join(d)\n",
    "\n",
    "age_sex = age_sex.rename(columns = {'個案研判日': 'Date', '縣市': 'County', \n",
    "                                    '性別': 'Sex', '是否為境外移入': 'Imported', \n",
    "                                    '年齡層': 'AgeGrp', '確定病例數': 'Cases'})\n",
    "\n",
    "\n",
    "test = test.rename(columns = { '通報日': 'Date' })\n",
    "test.Date = [fill(date) for date in test.Date]\n",
    "cases_ts = age_sex.groupby(\"Date\").Cases.sum().reset_index()\n",
    "imported_ts = age_sex.loc[age_sex.Imported == '是', ].groupby(\"Date\").Cases.sum().reset_index().rename(columns = {'Cases': 'Imported'})\n",
    "\n",
    "test = test.merge(cases_ts).merge(imported_ts)\n",
    "\n",
    "key_indices = { \n",
    "    'Deaths': int(cases.loc[0, \"死亡\"]),\n",
    "    'Test': int(test.Total.sum()),\n",
    "    'TestBi': int(test.Total.tail(14).sum()),\n",
    "    'Cases': int(cases.loc[0, \"確診\"]),\n",
    "    'CasesBi': int(test.Cases.tail(14).sum()),\n",
    "    'Imported': int(test.Imported.sum()),\n",
    "    'ImportedBi': int(test.Imported.tail(14).sum())\n",
    "}\n",
    "\n",
    "\n",
    "with open('CDC/key.json', 'w') as f:\n",
    "    json.dump(key_indices, f)"
   ]
  },
  {
   "cell_type": "code",
   "execution_count": 103,
   "metadata": {},
   "outputs": [
    {
     "data": {
      "text/plain": [
       "{'Deaths': 6,\n",
       " 'Test': 43137,\n",
       " 'TestBi': 16345,\n",
       " 'Cases': 429,\n",
       " 'CasesBi': 54,\n",
       " 'Imported': 373,\n",
       " 'ImportedBi': 52}"
      ]
     },
     "execution_count": 103,
     "metadata": {},
     "output_type": "execute_result"
    }
   ],
   "source": []
  },
  {
   "cell_type": "code",
   "execution_count": 104,
   "metadata": {},
   "outputs": [],
   "source": [
    "\n",
    "\n"
   ]
  }
 ],
 "metadata": {
  "kernelspec": {
   "display_name": "Python 3",
   "language": "python",
   "name": "python3"
  },
  "language_info": {
   "codemirror_mode": {
    "name": "ipython",
    "version": 3
   },
   "file_extension": ".py",
   "mimetype": "text/x-python",
   "name": "python",
   "nbconvert_exporter": "python",
   "pygments_lexer": "ipython3",
   "version": "3.7.3"
  }
 },
 "nbformat": 4,
 "nbformat_minor": 2
}
